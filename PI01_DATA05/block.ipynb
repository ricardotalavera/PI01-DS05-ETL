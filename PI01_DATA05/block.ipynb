{
 "cells": [
  {
   "attachments": {},
   "cell_type": "markdown",
   "metadata": {},
   "source": [
    "## BLOCK DE FUNCIONES USADAS EN FASTAPI PARA LOS GET ##"
   ]
  },
  {
   "cell_type": "code",
   "execution_count": 67,
   "metadata": {},
   "outputs": [],
   "source": [
    "import pandas as pd\n",
    "import warnings\n",
    "\n",
    "warnings.filterwarnings(\"ignore\")"
   ]
  },
  {
   "cell_type": "code",
   "execution_count": 52,
   "metadata": {},
   "outputs": [],
   "source": [
    "def get_count(plataforma):\n",
    "    kernel=pd.read_csv(\"data_api.csv\")\n",
    "    kernel[\"Total\"]=0\n",
    "    s=kernel[kernel[\"Plataforma\"]==plataforma][[\"type\",\"Plataforma\",\"Total\"]].groupby([\"type\",\"Plataforma\"]).count()\n",
    "    salida = \"[Plataforma] : \"+plataforma+\"    [ Tipo ] : Movie   [ cantidad ] : \" + str(s.iloc[0][0]) + \"   [ Tipo ] : TV Show   [ cantidad ] : \" + str(s.iloc[1][0])\n",
    "    return(salida)"
   ]
  },
  {
   "cell_type": "code",
   "execution_count": 53,
   "metadata": {},
   "outputs": [
    {
     "data": {
      "text/plain": [
       "'[Plataforma] : netflix    [ Tipo ] : Movie   [ cantidad ] : 6131   [ Tipo ] : TV Show   [ cantidad ] : 2676'"
      ]
     },
     "execution_count": 53,
     "metadata": {},
     "output_type": "execute_result"
    }
   ],
   "source": [
    "plataforma = \"netflix\"\n",
    "get_count(plataforma)"
   ]
  },
  {
   "cell_type": "code",
   "execution_count": 54,
   "metadata": {},
   "outputs": [],
   "source": [
    "def get_max(year,plataforma,unidad_tipo):\n",
    "    kernel=pd.read_csv(\"data_api.csv\")\n",
    "    s=kernel[(kernel[\"Plataforma\"]==plataforma) & (kernel[\"release_year\"]==year) & (kernel[\"dur_unidad\"]==unidad_tipo)].sort_values(by=\"duration_\",ascending=False).head(1)[[\"title\",\"duration_\",\"dur_unidad\"]]\n",
    "    titulo=str(s.iloc[0][0])\n",
    "    duracion=str(s.iloc[0][1])\n",
    "    anio=str(year)\n",
    "    if unidad_tipo == \"min\":\n",
    "        tip=\"Movie\"\n",
    "    if unidad_tipo == \"season\":\n",
    "        tip=\"TV Show\"\n",
    "    salida = \"[ Plataforma ] : \" + plataforma + \"   [ Tipo ] : \" + tip  + \"   [ año ] : \" + anio + \"   [ Movie / Serie ] :\" + titulo +\"  [ Duracion ] : \" + duracion + \" \" + unidad_tipo\n",
    "    return(salida)"
   ]
  },
  {
   "cell_type": "code",
   "execution_count": 55,
   "metadata": {},
   "outputs": [
    {
     "data": {
      "text/plain": [
       "'[ Plataforma ] : hulu   [ Tipo ] : Movie   [ año ] : 2018   [ Movie / Serie ] :The House That Jack Built  [ Duracion ] : 151 min'"
      ]
     },
     "execution_count": 55,
     "metadata": {},
     "output_type": "execute_result"
    }
   ],
   "source": [
    "plataforma = \"hulu\"\n",
    "year = 2018\n",
    "unidad_tipo=\"min\"\n",
    "get_max(year,plataforma,unidad_tipo)"
   ]
  },
  {
   "cell_type": "code",
   "execution_count": 116,
   "metadata": {},
   "outputs": [],
   "source": [
    "def get_actormax(year,plataforma):\n",
    "    kernel=pd.read_csv(\"data_api.csv\")\n",
    "    actores=pd.read_csv(\"actor_peli.csv\")\n",
    "    pelis=kernel[(kernel[\"Plataforma\"]==plataforma) & (kernel[\"release_year\"]==year)][\"title\"]\n",
    "    anio=str(year)\n",
    "    mix= pd.merge(actores[[\"cast\",\"title\"]],pelis,on=\"title\", how=\"inner\").groupby([\"cast\"]).count().sort_values(by=\"title\",ascending=False).head(5)\n",
    "    s=mix.index[0].strip()\n",
    "    salida = \"[ Plataforma ] : \" + plataforma + \"   [ año ] : \" + anio + \"   [ Actor ] : \"+s\n",
    "    return(salida)"
   ]
  },
  {
   "cell_type": "code",
   "execution_count": 117,
   "metadata": {},
   "outputs": [
    {
     "data": {
      "text/plain": [
       "'[ Plataforma ] : netflix   [ año ] : 2018   [ Actor ] : Andrea libman'"
      ]
     },
     "execution_count": 117,
     "metadata": {},
     "output_type": "execute_result"
    }
   ],
   "source": [
    "plataforma = \"netflix\"\n",
    "year = 2018\n",
    "get_actormax(year,plataforma)"
   ]
  },
  {
   "cell_type": "code",
   "execution_count": 136,
   "metadata": {},
   "outputs": [],
   "source": [
    "def get_gen(gen):\n",
    "    kernel=pd.read_csv(\"data_api.csv\")\n",
    "    kernel[\"contain\"]=kernel[\"listed_in\"].str.contains(gen)\n",
    "    s=kernel[kernel[\"contain\"]==True][[\"Plataforma\",\"contain\"]].groupby([\"Plataforma\"]).count().sort_values(by=\"contain\",ascending=False).head(1)\n",
    "    salida = \"[ Plataforma ] : \" + s.index[0] + \"  [ Genero ] : \"+gen+\"   [ Total Peliculas ] : \" + str(s.iloc[0][0])\n",
    "    return(salida)"
   ]
  },
  {
   "cell_type": "code",
   "execution_count": 137,
   "metadata": {},
   "outputs": [
    {
     "data": {
      "text/plain": [
       "'[ Plataforma ] : amazon_prime  [ Genero ] : Comedy   [ Total Peliculas ] : 2099'"
      ]
     },
     "execution_count": 137,
     "metadata": {},
     "output_type": "execute_result"
    }
   ],
   "source": [
    "gen=\"Comedy\"\n",
    "get_gen(gen)"
   ]
  }
 ],
 "metadata": {
  "kernelspec": {
   "display_name": "Python 3.10.7 64-bit",
   "language": "python",
   "name": "python3"
  },
  "language_info": {
   "codemirror_mode": {
    "name": "ipython",
    "version": 3
   },
   "file_extension": ".py",
   "mimetype": "text/x-python",
   "name": "python",
   "nbconvert_exporter": "python",
   "pygments_lexer": "ipython3",
   "version": "3.10.7"
  },
  "orig_nbformat": 4,
  "vscode": {
   "interpreter": {
    "hash": "f70c1e2fb12efbb75f4672ba1915fe938ef6bbf49e61743293f7740cd33511b7"
   }
  }
 },
 "nbformat": 4,
 "nbformat_minor": 2
}
